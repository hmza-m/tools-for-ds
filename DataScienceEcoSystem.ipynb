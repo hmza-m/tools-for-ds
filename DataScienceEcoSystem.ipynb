{
  "metadata": {
    "language_info": {
      "codemirror_mode": {
        "name": "python",
        "version": 3
      },
      "file_extension": ".py",
      "mimetype": "text/x-python",
      "name": "python",
      "nbconvert_exporter": "python",
      "pygments_lexer": "ipython3",
      "version": "3.8"
    },
    "kernelspec": {
      "name": "python",
      "display_name": "Python (Pyodide)",
      "language": "python"
    }
  },
  "nbformat_minor": 4,
  "nbformat": 4,
  "cells": [
    {
      "cell_type": "code",
      "source": "# Data Science Tools and Ecosystem",
      "metadata": {
        "trusted": true
      },
      "execution_count": 1,
      "outputs": []
    },
    {
      "cell_type": "code",
      "source": "#This notebook covers various aspects of Data Science and Python. Below are some of the objectives we will cover in this notebook.\n",
      "metadata": {
        "trusted": true
      },
      "execution_count": 2,
      "outputs": []
    },
    {
      "cell_type": "code",
      "source": "#exercise 4\n\nintro = \"Some of the popular languages that Data Scientists use are:\"\n\ndata_science_languages = [\"Python\", \"R\", \"Julia\"]\n\nprint(intro)\n\nfor i, language in enumerate(data_science_languages, start=1):\n    print(f\"{i}. {language}\")\n",
      "metadata": {
        "trusted": true
      },
      "execution_count": 4,
      "outputs": [
        {
          "name": "stdout",
          "text": "Some of the popular languages that Data Scientists use are:\n1. Python\n2. R\n3. Julia\n",
          "output_type": "stream"
        }
      ]
    },
    {
      "cell_type": "code",
      "source": "#exercise 5\n\nintro = \"Some of the commonly used libraries used by Data Scientists include:\"\n\ndata_science_libraries = [\"NumPy\", \"Pandas\", \"Matplotlib\", \"Scikit-Learn\"]\n\nprint(intro)\n\nfor i, library in enumerate(data_science_libraries, start=1):\n    print(f\"{i}. {library}\")\n",
      "metadata": {
        "trusted": true
      },
      "execution_count": 5,
      "outputs": [
        {
          "name": "stdout",
          "text": "Some of the commonly used libraries used by Data Scientists include:\n1. NumPy\n2. Pandas\n3. Matplotlib\n4. Scikit-Learn\n",
          "output_type": "stream"
        }
      ]
    },
    {
      "cell_type": "code",
      "source": "#exercise 6\n\nheader = \"Data Science Tools\"\ntools = [\"Jupyter Notebook\", \"VS Code\", \"RStudio\"]\n\ntable = f\"| {header} |\\n| --- |\\n\"\nfor tool in tools:\n    table += f\"| {tool} |\\n\"\n\nfrom IPython.display import Markdown\ndisplay(Markdown(table))\n\n",
      "metadata": {
        "trusted": true
      },
      "execution_count": 10,
      "outputs": [
        {
          "output_type": "display_data",
          "data": {
            "text/plain": "<IPython.core.display.Markdown object>",
            "text/markdown": "| Data Science Tools |\n| --- |\n| Jupyter Notebook |\n| VS Code |\n| RStudio |\n"
          },
          "metadata": {}
        }
      ]
    },
    {
      "cell_type": "code",
      "source": "#exercise 7\n\n# Add an H3 style heading\ndisplay(Markdown(\"### Below are a few examples of evaluating arithmetic expressions in Python\"))\n",
      "metadata": {
        "trusted": true
      },
      "execution_count": 12,
      "outputs": [
        {
          "output_type": "display_data",
          "data": {
            "text/plain": "<IPython.core.display.Markdown object>",
            "text/markdown": "### Below are a few examples of evaluating arithmetic expressions in Python"
          },
          "metadata": {}
        }
      ]
    },
    {
      "cell_type": "code",
      "source": "#exercise 8\n# This is a simple arithmetic expression to multiply then add integers.\nresult = (3 * 4) + 5\nresult\n",
      "metadata": {
        "trusted": true
      },
      "execution_count": 13,
      "outputs": [
        {
          "execution_count": 13,
          "output_type": "execute_result",
          "data": {
            "text/plain": "17"
          },
          "metadata": {}
        }
      ]
    },
    {
      "cell_type": "code",
      "source": "#exercise 9\n# This will convert 200 minutes to hours by dividing by 60.\nminutes = 200\nhours = minutes / 60\nhours\n",
      "metadata": {
        "trusted": true
      },
      "execution_count": 14,
      "outputs": [
        {
          "execution_count": 14,
          "output_type": "execute_result",
          "data": {
            "text/plain": "3.3333333333333335"
          },
          "metadata": {}
        }
      ]
    },
    {
      "cell_type": "code",
      "source": "#exercise 10\nfrom IPython.display import display, Markdown\n\n# Exercise 3: Create a Markdown cell for an introduction.\nintro_text = \"\"\"\nThis notebook covers various aspects of Data Science and Python. Below are some of the objectives we will cover in this notebook.\n\"\"\"\n\n# Create an introductory Markdown cell\ndisplay(Markdown(intro_text))\n\n# Exercise 4: Create a Markdown cell to list data science languages\nlanguages_text = \"\"\"\n**Objectives:**\n\n- List popular languages for Data Science.\n- Highlight commonly used libraries in Data Science.\n- Showcase open-source development environment tools.\n- Demonstrate arithmetic expression evaluation in Python.\n- Convert minutes to hours.\n\"\"\"\n\n# Create a Markdown cell for objectives\ndisplay(Markdown(languages_text))",
      "metadata": {
        "trusted": true
      },
      "execution_count": 17,
      "outputs": [
        {
          "output_type": "display_data",
          "data": {
            "text/plain": "<IPython.core.display.Markdown object>",
            "text/markdown": "\nThis notebook covers various aspects of Data Science and Python. Below are some of the objectives we will cover in this notebook.\n"
          },
          "metadata": {}
        },
        {
          "output_type": "display_data",
          "data": {
            "text/plain": "<IPython.core.display.Markdown object>",
            "text/markdown": "\n**Objectives:**\n\n- List popular languages for Data Science.\n- Highlight commonly used libraries in Data Science.\n- Showcase open-source development environment tools.\n- Demonstrate arithmetic expression evaluation in Python.\n- Convert minutes to hours.\n"
          },
          "metadata": {}
        }
      ]
    },
    {
      "cell_type": "code",
      "source": "from IPython.display import display, Markdown\n\n# Create a Markdown cell with Author information\nauthor_info = \"\"\"\n## Author\nHamza Shoaib Mughal\n\"\"\"\n\n# Display the Markdown cell\ndisplay(Markdown(author_info))\n",
      "metadata": {
        "trusted": true
      },
      "execution_count": 19,
      "outputs": [
        {
          "output_type": "display_data",
          "data": {
            "text/plain": "<IPython.core.display.Markdown object>",
            "text/markdown": "\n## Author\nHamza Shoaib Mughal\n"
          },
          "metadata": {}
        }
      ]
    },
    {
      "cell_type": "code",
      "source": "",
      "metadata": {},
      "execution_count": null,
      "outputs": []
    }
  ]
}